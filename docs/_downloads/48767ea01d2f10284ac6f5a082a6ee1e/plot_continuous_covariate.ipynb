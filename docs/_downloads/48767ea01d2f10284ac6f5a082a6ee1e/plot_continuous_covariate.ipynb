{
  "cells": [
    {
      "cell_type": "code",
      "execution_count": null,
      "metadata": {
        "collapsed": false
      },
      "outputs": [],
      "source": [
        "%matplotlib inline"
      ]
    },
    {
      "cell_type": "markdown",
      "metadata": {},
      "source": [
        "\n# Plot group-level effect of continuous covariate\n\n"
      ]
    },
    {
      "cell_type": "code",
      "execution_count": null,
      "metadata": {
        "collapsed": false
      },
      "outputs": [],
      "source": [
        "# Authors: Jose C. Garcia Alanis <alanis.jcg@gmail.com>\n#\n# License: BSD (3-clause)\n\nimport numpy as np\nfrom pandas import DataFrame\nfrom sklearn.linear_model import LinearRegression\nfrom sklearn.metrics import r2_score\nfrom scipy.stats import zscore\n\nimport matplotlib.pyplot as plt\n\nfrom mne.datasets import limo\nfrom mne.decoding import Vectorizer, get_coef\nfrom mne.evoked import EvokedArray\n\nfrom mne.viz import plot_compare_evokeds"
      ]
    },
    {
      "cell_type": "markdown",
      "metadata": {},
      "source": [
        "Here, we'll import multiple subjects from the LIMO-dataset\nand use this data to explore the modulating effects of subjects age on the\nphase-coherence. i.e., how the effect of phase-coherence varied\nacross subjects as a function of their age. Here we'll create a data frame\ncontaining the age values for second-level analysis, but a copy of the\ndata frame can be found as .tsv on the to directory of mne-limo.\n\n"
      ]
    },
    {
      "cell_type": "code",
      "execution_count": null,
      "metadata": {
        "collapsed": false
      },
      "outputs": [],
      "source": [
        "# subject ids\nsubjects = range(1, 19)\n# create a dictionary containing participants data for easy slicing\nlimo_epochs = {str(subj): limo.load_data(subject=subj) for subj in subjects}\n\n# interpolate missing channels\nfor subject in limo_epochs.values():\n    subject.interpolate_bads(reset_bads=True)\n    # only keep eeg channels\n    subject.pick_types(eeg=True)\n\n# subjects age\nage = [66, 68, 37, 68, 32, 21, 60, 68, 37, 28, 68, 41, 32, 34, 60, 61, 21, 40]\nsubj_age = DataFrame(data=age,\n                     columns=['age'])"
      ]
    },
    {
      "cell_type": "markdown",
      "metadata": {},
      "source": [
        "regression parameters\n\n"
      ]
    },
    {
      "cell_type": "code",
      "execution_count": null,
      "metadata": {
        "collapsed": false
      },
      "outputs": [],
      "source": [
        "# variables to be used in the analysis (i.e., predictors)\npredictors = ['intercept', 'face a - face b', 'phase-coherence']\n\n# number of predictors\nn_predictors = len(predictors)\n\n# save epochs information (needed for creating a homologous\n# epochs object containing linear regression result)\nepochs_info = limo_epochs[str(subjects[0])].info\n\n# number of channels and number of time points in each epoch\n# we'll use this information later to bring the results of the\n# the linear regression algorithm into an eeg-like format\n# (i.e., channels x times points)\nn_channels = len(epochs_info['ch_names'])\nn_times = len(limo_epochs[str(subjects[0])].times)\n\n# also save times first time-point in data\ntimes = limo_epochs[str(subjects[0])].times\ntmin = limo_epochs[str(subjects[0])].tmin"
      ]
    },
    {
      "cell_type": "markdown",
      "metadata": {},
      "source": [
        "create empty objects  for the storage of results\n\n"
      ]
    },
    {
      "cell_type": "code",
      "execution_count": null,
      "metadata": {
        "collapsed": false
      },
      "outputs": [],
      "source": [
        "# place holders for bootstrap samples\nbetas = np.zeros((len(limo_epochs.values()),\n                  n_channels * n_times))\nr_squared = np.zeros((len(limo_epochs.values()),\n                      n_channels * n_times))"
      ]
    },
    {
      "cell_type": "markdown",
      "metadata": {},
      "source": [
        "run regression analysis for each subject\n\n"
      ]
    },
    {
      "cell_type": "code",
      "execution_count": null,
      "metadata": {
        "collapsed": false
      },
      "outputs": [],
      "source": [
        "# loop through subjects, set up and fit linear model\nfor iteration, subject in enumerate(limo_epochs.values()):\n\n    # --- 1) create design matrix ---\n    # use epochs metadata\n    design = subject.metadata.copy()\n\n    # add intercept (constant) to design matrix\n    design = design.assign(intercept=1)\n\n    # effect code contrast for categorical variable (i.e., condition a vs. b)\n    design['face a - face b'] = np.where(design['face'] == 'A', 1, -1)\n\n    # order columns of design matrix\n    design = design[predictors]\n\n    # column of betas array (i.e., predictor) to run bootstrap on\n    pred_col = predictors.index('phase-coherence')\n\n    # --- 2) vectorize (eeg-channel) data for linear regression analysis ---\n    # data to be analysed\n    data = subject.get_data()\n\n    # vectorize data across channels\n    Y = Vectorizer().fit_transform(data)\n\n    # --- 3) fit linear model with sklearn's LinearRegression ---\n    # we already have an intercept column in the design matrix,\n    # thus we'll call LinearRegression with fit_intercept=False\n    linear_model = LinearRegression(fit_intercept=False)\n    linear_model.fit(design, Y)\n\n    # --- 4) extract the resulting coefficients (i.e., betas) ---\n    # extract betas\n    coefs = get_coef(linear_model, 'coef_')\n    # only keep relevant predictor\n    betas[iteration, :] = coefs[:, pred_col]\n\n    # calculate coefficient of determination (r-squared)\n    r_squared[iteration, :] = r2_score(Y, linear_model.predict(design),\n                                       multioutput='raw_values')\n\n    # clean up\n    del linear_model"
      ]
    },
    {
      "cell_type": "markdown",
      "metadata": {},
      "source": [
        "create design matrix from group-level regression\n\n"
      ]
    },
    {
      "cell_type": "code",
      "execution_count": null,
      "metadata": {
        "collapsed": false
      },
      "outputs": [],
      "source": [
        "# z-core age predictor\nsubj_age['age'] = zscore(subj_age['age'])\n# create design matrix\ngroup_design = subj_age\n\n# add intercept\ngroup_design = group_design.assign(intercept=1)\n# order columns of design matrix\ngroup_predictors = ['intercept', 'age']\ngroup_design = group_design[group_predictors]\n\n# column index of relevant predictor\ngroup_pred_col = group_predictors.index('age')"
      ]
    },
    {
      "cell_type": "markdown",
      "metadata": {},
      "source": [
        "run bootstrap for group-level regression coefficients\n\n"
      ]
    },
    {
      "cell_type": "code",
      "execution_count": null,
      "metadata": {
        "collapsed": false
      },
      "outputs": [],
      "source": [
        "# set random state for replication\nrandom_state = 42\nrandom = np.random.RandomState(random_state)\n\n# number of random samples\nboot = 2000\n\n# create empty array for saving the bootstrap samples\nboot_betas = np.zeros((boot, n_channels * n_times))\n# run bootstrap for regression coefficients\nfor i in range(boot):\n    # extract random subjects from overall sample\n    resampled_subjects = random.choice(range(betas.shape[0]),\n                                       betas.shape[0],\n                                       replace=True)\n\n    # resampled betas\n    resampled_betas = betas[resampled_subjects, :]\n\n    # set up model and fit model\n    model_boot = LinearRegression(fit_intercept=False)\n    model_boot.fit(X=group_design.iloc[resampled_subjects], y=resampled_betas)\n\n    # extract regression coefficients\n    group_coefs = get_coef(model_boot, 'coef_')\n\n    # store regression coefficient for age covariate\n    boot_betas[i, :] = group_coefs[:, group_pred_col]\n\n    # delete the previously fitted model\n    del model_boot"
      ]
    },
    {
      "cell_type": "markdown",
      "metadata": {},
      "source": [
        "compute CI boundaries according to:\nPernet, C. R., Chauveau, N., Gaspar, C., & Rousselet, G. A. (2011).\nLIMO EEG: a toolbox for hierarchical LInear MOdeling of\nElectroEncephaloGraphic data.\nComputational intelligence and neuroscience, 2011, 3.\n\n"
      ]
    },
    {
      "cell_type": "code",
      "execution_count": null,
      "metadata": {
        "collapsed": false
      },
      "outputs": [],
      "source": [
        "# a = (alpha * number of bootstraps) / (2 * number of predictors)\na = (0.05 * boot) / (2 / group_pred_col * 1)\n# c = number of bootstraps - a\nc = boot - a\n\n# compute low and high percentiles for bootstrapped beta coefficients\nlower_b, upper_b = np.quantile(boot_betas, [a/boot, c/boot], axis=0)\n\n# reshape to channels * time-points space\nlower_b = lower_b.reshape((n_channels, n_times))\nupper_b = upper_b.reshape((n_channels, n_times))"
      ]
    },
    {
      "cell_type": "markdown",
      "metadata": {},
      "source": [
        "fit linear model with sklearn's LinearRegression\nwe already have an intercept column in the design matrix,\nthus we'll call LinearRegression with fit_intercept=False\n\n"
      ]
    },
    {
      "cell_type": "code",
      "execution_count": null,
      "metadata": {
        "collapsed": false
      },
      "outputs": [],
      "source": [
        "# set up and fit model\nlinear_model = LinearRegression(fit_intercept=False)\nlinear_model.fit(group_design, betas)\n\n# extract group-level beta coefficients\ngroup_coefs = get_coef(linear_model, 'coef_')\n\n# only keep relevant predictor\ngroup_betas = group_coefs[:, group_pred_col]\n\n# back projection to channels x time points\ngroup_betas = group_betas.reshape((n_channels, n_times))\n# create evoked object containing the back projected coefficients\ngroup_betas_evoked = EvokedArray(group_betas, epochs_info, tmin)"
      ]
    },
    {
      "cell_type": "markdown",
      "metadata": {},
      "source": [
        "plot the modulating effect of age on the phase coherence predictor (i.e.,\nhow the effect of phase coherence varies as a function of subject age)\nusing whole electrode montage and whole scalp by taking the\nsame physical electrodes across subjects\n\n"
      ]
    },
    {
      "cell_type": "code",
      "execution_count": null,
      "metadata": {
        "collapsed": false
      },
      "outputs": [],
      "source": [
        "# index of B8 in array\nelectrode = 'B8'\npick = group_betas_evoked.ch_names.index(electrode)\n\n# create figure\nfig, ax = plt.subplots(figsize=(7, 4))\nax = plot_compare_evokeds(group_betas_evoked,\n                          ylim=dict(eeg=[-3, 3]),\n                          picks=pick,\n                          show_sensors='upper right',\n                          axes=ax)\nax[0].axes[0].fill_between(times,\n                           # transform values to microvolt\n                           upper_b[pick] * 1e6,\n                           lower_b[pick] * 1e6,\n                           alpha=0.2)\nplt.plot()"
      ]
    },
    {
      "cell_type": "markdown",
      "metadata": {},
      "source": [
        "run analysis on optimized electrode (i.e., electrode showing best fit for\nphase-coherence predictor).\n\n"
      ]
    },
    {
      "cell_type": "code",
      "execution_count": null,
      "metadata": {
        "collapsed": false
      },
      "outputs": [],
      "source": [
        "# find R-squared peak for each subject in the data set\noptimized_electrodes = r_squared.argmax(axis=1)\n# find the corresponding electrode\noptimized_electrodes = np.unravel_index(optimized_electrodes,\n                                        (n_channels, n_times))[0]"
      ]
    },
    {
      "cell_type": "markdown",
      "metadata": {},
      "source": [
        "extract beta coefficients for electrode showing best fit\n\n"
      ]
    },
    {
      "cell_type": "code",
      "execution_count": null,
      "metadata": {
        "collapsed": false
      },
      "outputs": [],
      "source": [
        "# reshape subjects' beats to channels * time-points space\nbetas = betas.reshape((betas.shape[0], n_channels, n_times))\n\n# get betas for best fitting electrode\noptimized_betas = np.array(\n    [subj[elec, :] for subj, elec in zip(betas, optimized_electrodes)])"
      ]
    },
    {
      "cell_type": "markdown",
      "metadata": {},
      "source": [
        "fit linear model with sklearn's LinearRegression\n\n"
      ]
    },
    {
      "cell_type": "code",
      "execution_count": null,
      "metadata": {
        "collapsed": false
      },
      "outputs": [],
      "source": [
        "linear_model = LinearRegression(fit_intercept=False)\nlinear_model.fit(group_design, optimized_betas)\n\n# extract group-level beta coefficients\ngroup_opt_coefs = get_coef(linear_model, 'coef_')\n\n# only keep relevant predictor\ngroup_pred_col = group_predictors.index('age')\ngroup_opt_betas = group_opt_coefs[:, group_pred_col]"
      ]
    },
    {
      "cell_type": "markdown",
      "metadata": {},
      "source": [
        "run bootstrap for group-level regression coefficients derived from\noptimized electrode analyisis\n\n"
      ]
    },
    {
      "cell_type": "code",
      "execution_count": null,
      "metadata": {
        "collapsed": false
      },
      "outputs": [],
      "source": [
        "# set random state for replication\nrandom_state = 42\nrandom = np.random.RandomState(random_state)\n\n# number of random samples\nboot = 2000\n\n# create empty array for saving the bootstrap samples\nboot_optimized_betas = np.zeros((boot, n_times))\n# run bootstrap for regression coefficients\nfor i in range(boot):\n    # extract random subjects from overall sample\n    resampled_subjects = random.choice(range(betas.shape[0]),\n                                       betas.shape[0],\n                                       replace=True)\n\n    # resampled betas\n    resampled_betas = optimized_betas[resampled_subjects, :]\n\n    # set up model and fit model\n    model_boot = LinearRegression(fit_intercept=False)\n    model_boot.fit(X=group_design.iloc[resampled_subjects], y=resampled_betas)\n\n    # extract regression coefficients\n    group_opt_coefs = get_coef(model_boot, 'coef_')\n\n    # store regression coefficient for age covariate\n    boot_optimized_betas[i, :] = group_opt_coefs[:, group_pred_col]\n\n    # delete the previously fitted model\n    del model_boot"
      ]
    },
    {
      "cell_type": "markdown",
      "metadata": {},
      "source": [
        "compute CI boundaries according to:\nPernet, C. R., Chauveau, N., Gaspar, C., & Rousselet, G. A. (2011).\nLIMO EEG: a toolbox for hierarchical LInear MOdeling of\nElectroEncephaloGraphic data.\nComputational intelligence and neuroscience, 2011, 3.\n\n"
      ]
    },
    {
      "cell_type": "code",
      "execution_count": null,
      "metadata": {
        "collapsed": false
      },
      "outputs": [],
      "source": [
        "# a = (alpha * number of bootstraps) / (2 * number of predictors)\na = (0.05 * boot) / (2 / group_pred_col * 1)\n# c = number of bootstraps - a\nc = boot - a\n\n# or compute with np.quantile\n# compute low and high percentiles for bootstrapped beta coefficients\nlower_ob, upper_ob = np.quantile(boot_optimized_betas, [a/boot, c/boot], axis=0)"
      ]
    },
    {
      "cell_type": "markdown",
      "metadata": {},
      "source": [
        "plot the modulating effect of age on the phase coherence predictor for\noptimized electrode\n\n"
      ]
    },
    {
      "cell_type": "code",
      "execution_count": null,
      "metadata": {
        "collapsed": false
      },
      "outputs": [],
      "source": [
        "# create figure\nplt.plot(times, group_opt_betas * 1e6)  # transform betas to microvolt\nplt.fill_between(times,\n                 # transform values to microvolt\n                 lower_ob * 1e6,\n                 upper_ob * 1e6,\n                 alpha=0.2)\nplt.axhline(y=0, ls='--', lw=0.8, c='k')\nplt.axvline(x=0, ls='--', lw=0.8, c='k')\nplt.ylim(top=3, bottom=-3)\nplt.xlim(-.1, .45)"
      ]
    },
    {
      "cell_type": "markdown",
      "metadata": {},
      "source": [
        "plot histogram of optimized electrode frequencies\n\n"
      ]
    },
    {
      "cell_type": "code",
      "execution_count": null,
      "metadata": {
        "collapsed": false
      },
      "outputs": [],
      "source": [
        "electrode_freq = [limo_epochs['1'].ch_names[e] for e in optimized_electrodes]\nplt.hist(electrode_freq)"
      ]
    }
  ],
  "metadata": {
    "kernelspec": {
      "display_name": "Python 3",
      "language": "python",
      "name": "python3"
    },
    "language_info": {
      "codemirror_mode": {
        "name": "ipython",
        "version": 3
      },
      "file_extension": ".py",
      "mimetype": "text/x-python",
      "name": "python",
      "nbconvert_exporter": "python",
      "pygments_lexer": "ipython3",
      "version": "3.7.3"
    }
  },
  "nbformat": 4,
  "nbformat_minor": 0
}