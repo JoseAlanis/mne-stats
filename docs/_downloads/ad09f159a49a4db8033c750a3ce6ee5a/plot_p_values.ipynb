{
  "cells": [
    {
      "cell_type": "code",
      "execution_count": null,
      "metadata": {
        "collapsed": false
      },
      "outputs": [],
      "source": [
        "%matplotlib inline"
      ]
    },
    {
      "cell_type": "markdown",
      "metadata": {},
      "source": [
        "\n# Plot p-values for single subject beta coefficients\n\n\nReferences\n----------\n.. [1] Sander Greenland (2019) Valid P-Values Behave Exactly as They Should:\n       Some Misleading Criticisms of P-Values and Their Resolution With\n       S-Values, The American Statistician, 73:sup1,\n       https://doi.org/10.1080/00031305.2018.1543137\n"
      ]
    },
    {
      "cell_type": "code",
      "execution_count": null,
      "metadata": {
        "collapsed": false
      },
      "outputs": [],
      "source": [
        "# Authors: Jose C. Garcia Alanis <alanis.jcg@gmail.com>\n#\n# License: BSD (3-clause)\n\nimport numpy as np\nfrom scipy import stats\nimport matplotlib.pyplot as plt\n\nfrom sklearn.linear_model import LinearRegression\n\nfrom mne.decoding import Vectorizer, get_coef\nfrom mne.datasets import limo\nfrom mne.evoked import EvokedArray\nfrom mne.stats import fdr_correction\nfrom mne.viz import plot_compare_evokeds"
      ]
    },
    {
      "cell_type": "markdown",
      "metadata": {},
      "source": [
        "Here, we'll import only one subject. The example shows how to compute p-values\nfor  beta coefficients derived from linear regression using sklearn.\nIn addition, we propose to visualize these p-values in terms of\nShannon information values [1]_ (i.e., surprise values)\nfor better interpretation.\n\n"
      ]
    },
    {
      "cell_type": "code",
      "execution_count": null,
      "metadata": {
        "collapsed": false
      },
      "outputs": [],
      "source": [
        "# subject id\nsubjects = [2]\n# create a dictionary containing participants data\nlimo_epochs = {str(subj): limo.load_data(subject=subj) for subj in subjects}\n\n# interpolate missing channels\nfor subject in limo_epochs.values():\n    subject.interpolate_bads(reset_bads=True)\n\n# epochs to use for analysis\nepochs = limo_epochs['2']\n\n# only keep eeg channels\nepochs = epochs.pick_types(eeg=True)\n\n# save epochs information (needed for creating a homologous\n# epochs object containing linear regression result)\nepochs_info = epochs.info\ntmin = epochs.tmin"
      ]
    },
    {
      "cell_type": "markdown",
      "metadata": {},
      "source": [
        "use epochs metadata to create design matrix for linear regression analyses\n\n"
      ]
    },
    {
      "cell_type": "code",
      "execution_count": null,
      "metadata": {
        "collapsed": false
      },
      "outputs": [],
      "source": [
        "# add intercept\ndesign = epochs.metadata.copy().assign(intercept=1)\n# effect code contrast for categorical variable (i.e., condition a vs. b)\ndesign['face a - face b'] = np.where(design['face'] == 'A', 1, -1)\n# create design matrix with named predictors\npredictors = ['intercept', 'face a - face b', 'phase-coherence']\ndesign = design[predictors]"
      ]
    },
    {
      "cell_type": "markdown",
      "metadata": {},
      "source": [
        "extract the data that will be used in the analyses\n\n"
      ]
    },
    {
      "cell_type": "code",
      "execution_count": null,
      "metadata": {
        "collapsed": false
      },
      "outputs": [],
      "source": [
        "# get epochs data\ndata = epochs.get_data()\n\n# number of epochs in data set\nn_epochs = data.shape[0]\n\n# number of channels and number of time points in each epoch\n# we'll use this information later to bring the results of the\n# the linear regression algorithm into an eeg-like format\n# (i.e., channels x times points)\nn_channels = data.shape[1]\nn_times = len(epochs.times)\n\n# number of trials and number of predictors\nn_trials, n_predictors = design.shape\n# degrees of freedom\ndfs = float(n_trials - n_predictors)\n\n# vectorize (channel) data for linear regression\nY = Vectorizer().fit_transform(data)"
      ]
    },
    {
      "cell_type": "markdown",
      "metadata": {},
      "source": [
        "fit linear model with sklearn\n\n"
      ]
    },
    {
      "cell_type": "code",
      "execution_count": null,
      "metadata": {
        "collapsed": false
      },
      "outputs": [],
      "source": [
        "# set up model and fit linear model\nlinear_model = LinearRegression(fit_intercept=False)\nlinear_model.fit(design, Y)\n\n# extract the coefficients for linear model estimator\nbetas = get_coef(linear_model, 'coef_')\n\n# compute predictions\npredictions = linear_model.predict(design)\n\n# compute sum of squared residuals and mean squared error\nresiduals = (Y - predictions)\n# sum of squared residuals\nssr = np.sum(residuals ** 2, axis=0)\n# mean squared error\nsqrt_mse = np.sqrt(ssr / dfs)\n\n# raw error terms for each predictor in the design matrix:\n# here, we take the inverse of the design matrix's projections\n# (i.e., A^T*A)^-1 and extract the square root of the diagonal values.\nerror_terms = np.sqrt(np.diag(np.linalg.pinv(np.dot(design.T, design))))"
      ]
    },
    {
      "cell_type": "markdown",
      "metadata": {},
      "source": [
        "extract betas for each predictor in design matrix and compute p-values\n\n"
      ]
    },
    {
      "cell_type": "code",
      "execution_count": null,
      "metadata": {
        "collapsed": false
      },
      "outputs": [],
      "source": [
        "# place holders for results\nlm_betas, stderrs, t_vals, p_vals, s_vals = (dict() for _ in range(5))\n\n# define point asymptotic to zero to use as zero\ntiny = np.finfo(np.float64).tiny\n\n# loop through predictors to extract parameters\nfor ind, predictor in enumerate(predictors):\n\n    # extract coefficients for predictor in question\n    beta = betas[:, ind]\n    # compute standard errors\n    stderr = sqrt_mse * error_terms[ind]\n\n    # compute t values\n    t_val = beta / stderr\n    # and p-values\n    p_val = 2 * stats.t.sf(np.abs(t_val), dfs)\n\n    # project results back to channels x time points space\n    beta = beta.reshape((n_channels, n_times))\n    stderr = stderr.reshape((n_channels, n_times))\n    t_val = t_val.reshape((n_channels, n_times))\n    # replace p-values == 0 with asymptotic value `tiny`\n    p_val = np.clip(p_val, tiny, 1.).reshape((n_channels, n_times))\n\n    # create evoked object for plotting\n    lm_betas[predictor] = EvokedArray(beta, epochs_info, tmin)\n    stderrs[predictor] = EvokedArray(stderr, epochs_info, tmin)\n    t_vals[predictor] = EvokedArray(t_val, epochs_info, tmin)\n    p_vals[predictor] = p_val\n\n    # For better interpretation, we'll transform p-values to\n    # Shannon information values (i.e., surprise values) by taking the\n    # negative log2 of the p-value. In contrast to the p-value, the resulting\n    # \"s-value\" is not a probability. Rather, it constitutes a continuous\n    # measure of information (in bits) against the test hypothesis (see [1]\n    # above for further details).\n    s_vals[predictor] = EvokedArray(-np.log2(p_val) * 1e-6, epochs_info, tmin)"
      ]
    },
    {
      "cell_type": "markdown",
      "metadata": {},
      "source": [
        "plot inference results for predictor \"phase-coherence\"\n\n"
      ]
    },
    {
      "cell_type": "code",
      "execution_count": null,
      "metadata": {
        "collapsed": false
      },
      "outputs": [],
      "source": [
        "predictor = 'phase-coherence'\n\n# only show -250 to 500 ms\nts_args = dict(xlim=(-.25, 0.5),\n               # use unit=False to avoid conversion to micro-volt\n               unit=False)\ntopomap_args = dict(cmap='RdBu_r',\n                    # keep values scale\n                    scalings=dict(eeg=1),\n                    average=0.05)\n# plot t-values\nfig = t_vals[predictor].plot_joint(ts_args=ts_args,\n                                   topomap_args=topomap_args,\n                                   title='T-values for predictor ' + predictor,\n                                   times=[.13, .23])\nfig.axes[0].set_ylabel('T-value')"
      ]
    },
    {
      "cell_type": "markdown",
      "metadata": {},
      "source": [
        "correct p-values for multiple testing and create a mask for non-significant\ntime point dor each channel.\n\n"
      ]
    },
    {
      "cell_type": "code",
      "execution_count": null,
      "metadata": {
        "collapsed": false
      },
      "outputs": [],
      "source": [
        "reject_H0, fdr_pvals = fdr_correction(p_vals[predictor],\n                                      alpha=0.01)\n# plot t-values, masking non-significant time points.\nfig = t_vals[predictor].plot_image(time_unit='s',\n                                   mask=reject_H0,\n                                   unit=False,\n                                   # keep values scale\n                                   scalings=dict(eeg=1))\nfig.axes[1].set_title('T-value')"
      ]
    },
    {
      "cell_type": "markdown",
      "metadata": {},
      "source": [
        "plot surprise-values as \"erp\"\nonly show electrode `B8`\n\n"
      ]
    },
    {
      "cell_type": "code",
      "execution_count": null,
      "metadata": {
        "collapsed": false
      },
      "outputs": [],
      "source": [
        "pick = epochs.info['ch_names'].index('B8')\nfig, ax = plt.subplots(figsize=(7, 4))\nplot_compare_evokeds(s_vals[predictor],\n                     picks=pick,\n                     legend='lower left',\n                     axes=ax,\n                     show_sensors='upper left')\nplt.rcParams.update({'mathtext.default':  'regular'})\nax.set_ylabel('$S_{value}$ (-$log_2$($P_{value}$)')\nax.yaxis.set_label_coords(-0.1, 0.5)\nplt.plot()"
      ]
    }
  ],
  "metadata": {
    "kernelspec": {
      "display_name": "Python 3",
      "language": "python",
      "name": "python3"
    },
    "language_info": {
      "codemirror_mode": {
        "name": "ipython",
        "version": 3
      },
      "file_extension": ".py",
      "mimetype": "text/x-python",
      "name": "python",
      "nbconvert_exporter": "python",
      "pygments_lexer": "ipython3",
      "version": "3.7.3"
    }
  },
  "nbformat": 4,
  "nbformat_minor": 0
}