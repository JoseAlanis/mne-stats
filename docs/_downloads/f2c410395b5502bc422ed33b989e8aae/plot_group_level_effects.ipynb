{
  "cells": [
    {
      "cell_type": "code",
      "execution_count": null,
      "metadata": {
        "collapsed": false
      },
      "outputs": [],
      "source": [
        "%matplotlib inline"
      ]
    },
    {
      "cell_type": "markdown",
      "metadata": {},
      "source": [
        "\n# Plot group-level effect of continuous variable\n\n"
      ]
    },
    {
      "cell_type": "code",
      "execution_count": null,
      "metadata": {
        "collapsed": false
      },
      "outputs": [],
      "source": [
        "# Authors: Jose C. Garcia Alanis <alanis.jcg@gmail.com>\n#\n# License: BSD (3-clause)\n\nimport numpy as np\nfrom sklearn.linear_model import LinearRegression\n\nimport matplotlib.pyplot as plt\n\nfrom mne.stats.parametric import ttest_1samp_no_p\nfrom mne.datasets import limo\nfrom mne.decoding import Vectorizer, get_coef\nfrom mne.evoked import EvokedArray\nfrom mne import combine_evoked\n\nfrom mne.viz import plot_compare_evokeds"
      ]
    },
    {
      "cell_type": "markdown",
      "metadata": {},
      "source": [
        "Here, we'll import multiple subjects from the LIMO-dataset and explore the\ngroup-level beta-coefficients for a continuous predictor.\n\n"
      ]
    },
    {
      "cell_type": "code",
      "execution_count": null,
      "metadata": {
        "collapsed": false
      },
      "outputs": [],
      "source": [
        "# list with subjects ids that should be imported\nsubjects = range(1, 19)\n# create a dictionary containing participants data for easy slicing\nlimo_epochs = {str(subj): limo.load_data(subject=subj) for subj in subjects}\n\n# interpolate missing channels\nfor subject in limo_epochs.values():\n    subject.interpolate_bads(reset_bads=True)\n    # only keep eeg channels\n    subject.pick_types(eeg=True)"
      ]
    },
    {
      "cell_type": "markdown",
      "metadata": {},
      "source": [
        "regression parameters\n\n"
      ]
    },
    {
      "cell_type": "code",
      "execution_count": null,
      "metadata": {
        "collapsed": false
      },
      "outputs": [],
      "source": [
        "# variables to be used in the analysis (i.e., predictors)\npredictors = ['intercept', 'face a - face b', 'phase-coherence']\n\n# number of predictors\nn_predictors = len(predictors)\n\n# save epochs information (needed for creating a homologous\n# epochs object containing linear regression result)\nepochs_info = limo_epochs[str(subjects[0])].info\n\n# number of channels and number of time points in each epoch\n# we'll use this information later to bring the results of the\n# the linear regression algorithm into an eeg-like format\n# (i.e., channels x times points)\nn_channels = len(epochs_info['ch_names'])\nn_times = len(limo_epochs[str(subjects[0])].times)\n\n# also save times first time-point in data\ntimes = limo_epochs[str(subjects[0])].times\ntmin = limo_epochs[str(subjects[0])].tmin"
      ]
    },
    {
      "cell_type": "markdown",
      "metadata": {},
      "source": [
        "create empty objects  for the storage of results\n\n"
      ]
    },
    {
      "cell_type": "code",
      "execution_count": null,
      "metadata": {
        "collapsed": false
      },
      "outputs": [],
      "source": [
        "# place holders for bootstrap samples\nbetas = np.zeros((len(limo_epochs.values()),\n                  n_channels * n_times))\n\n# dicts for results evoked-objects\nbetas_evoked = dict()\nt_evokeds = dict()"
      ]
    },
    {
      "cell_type": "markdown",
      "metadata": {},
      "source": [
        "run regression analysis for each subject\n\n"
      ]
    },
    {
      "cell_type": "code",
      "execution_count": null,
      "metadata": {
        "collapsed": false
      },
      "outputs": [],
      "source": [
        "# loop through subjects, set up and fit linear model\nfor iteration, subject in enumerate(limo_epochs.values()):\n\n    # --- 1) create design matrix ---\n    # use epochs metadata\n    design = subject.metadata.copy()\n\n    # add intercept (constant) to design matrix\n    design = design.assign(intercept=1)\n\n    # effect code contrast for categorical variable (i.e., condition a vs. b)\n    design['face a - face b'] = np.where(design['face'] == 'A', 1, -1)\n\n    # order columns of design matrix\n    design = design[predictors]\n\n    # column of betas array (i.e., predictor) to run bootstrap on\n    pred_col = predictors.index('phase-coherence')\n\n    # --- 2) vectorize (eeg-channel) data for linear regression analysis ---\n    # data to be analysed\n    data = subject.get_data()\n\n    # vectorize data across channels\n    Y = Vectorizer().fit_transform(data)\n\n    # --- 3) fit linear model with sklearn's LinearRegression ---\n    # we already have an intercept column in the design matrix,\n    # thus we'll call LinearRegression with fit_intercept=False\n    linear_model = LinearRegression(fit_intercept=False)\n    linear_model.fit(design, Y)\n\n    # --- 4) extract the resulting coefficients (i.e., betas) ---\n    # extract betas\n    coefs = get_coef(linear_model, 'coef_')\n    # only keep relevant predictor\n    betas[iteration, :] = coefs[:, pred_col]\n\n    # the matrix of coefficients has a shape of number of observations in\n    # the vertorized channel data by number of predictors;\n    # thus, we can loop through the columns i.e., the predictors)\n    # of the coefficient matrix and extract coefficients for each predictor\n    # in order to project them back to a channels x time points space.\n    lm_betas = dict()\n\n    # extract coefficients\n    beta = betas[iteration, :]\n    # back projection to channels x time points\n    beta = beta.reshape((n_channels, n_times))\n    # create evoked object containing the back projected coefficients\n    lm_betas['phase-coherence'] = EvokedArray(beta, epochs_info, tmin)\n\n    # save results\n    betas_evoked[str(subjects[iteration])] = lm_betas\n\n    # clean up\n    del linear_model"
      ]
    },
    {
      "cell_type": "markdown",
      "metadata": {},
      "source": [
        "compute mean beta-coefficient for predictor phase-coherence\n\n"
      ]
    },
    {
      "cell_type": "code",
      "execution_count": null,
      "metadata": {
        "collapsed": false
      },
      "outputs": [],
      "source": [
        "# subject ids\nsubjects = [str(subj) for subj in subjects]\n\n# extract phase-coherence betas for each subject\nphase_coherence = [betas_evoked[subj]['phase-coherence'] for subj in subjects]\n\n# average phase-coherence betas\nweights = np.repeat(1 / len(phase_coherence), len(phase_coherence))\nga_phase_coherence = combine_evoked(phase_coherence, weights=weights)"
      ]
    },
    {
      "cell_type": "markdown",
      "metadata": {},
      "source": [
        "compute bootstrap confidence interval for phase-coherence betas and t-values\n\n"
      ]
    },
    {
      "cell_type": "code",
      "execution_count": null,
      "metadata": {
        "collapsed": false
      },
      "outputs": [],
      "source": [
        "# set random state for replication\nrandom_state = 42\nrandom = np.random.RandomState(random_state)\n\n# number of random samples\nboot = 2000\n\n# place holders for bootstrap samples\nboot_betas = np.zeros((boot, n_channels * n_times))\nboot_t = np.zeros((boot, n_channels * n_times))\n\n# run bootstrap for regression coefficients\nfor i in range(boot):\n    # extract random subjects from overall sample\n    resampled_subjects = random.choice(range(betas.shape[0]),\n                                       betas.shape[0],\n                                       replace=True)\n    # resampled betas\n    resampled_betas = betas[resampled_subjects, :]\n\n    # compute standard error of bootstrap sample\n    se = resampled_betas.std(axis=0) / np.sqrt(resampled_betas.shape[0])\n\n    # center re-sampled betas around zero\n    for subj_ind in range(resampled_betas.shape[0]):\n        resampled_betas[subj_ind, :] = resampled_betas[subj_ind, :] - \\\n                                       betas.mean(axis=0)\n\n    # compute t-values for bootstrap sample\n    boot_t[i, :] = resampled_betas.mean(axis=0) / se"
      ]
    },
    {
      "cell_type": "markdown",
      "metadata": {},
      "source": [
        "compute robust CI based on bootstrap-t technique\n\n"
      ]
    },
    {
      "cell_type": "code",
      "execution_count": null,
      "metadata": {
        "collapsed": false
      },
      "outputs": [],
      "source": [
        "# compute low and high percentiles for bootstrapped t-values\nlower_t, upper_t = np.quantile(boot_t, [.025, .975], axis=0)\n\n# compute group-level standard error based on subjects beta coefficients\nbetas_se = betas.std(axis=0) / np.sqrt(betas.shape[0])\n# lower bound of CI\nlower_b = betas.mean(axis=0) - upper_t * betas_se\n# upper bound of CI\nupper_b = betas.mean(axis=0) - lower_t * betas_se\n\n# reshape to channels * time-points space\nlower_b = lower_b.reshape((n_channels, n_times))\nupper_b = upper_b.reshape((n_channels, n_times))\n\n# reshape to channels * time-points space\nlower_t = lower_t.reshape((n_channels, n_times))\nupper_t = upper_t.reshape((n_channels, n_times))"
      ]
    },
    {
      "cell_type": "markdown",
      "metadata": {},
      "source": [
        "plot mean beta parameter for phase coherence and 95%\nconfidence interval for the electrode showing the strongest effect (i.e., C1)\n\n"
      ]
    },
    {
      "cell_type": "code",
      "execution_count": null,
      "metadata": {
        "collapsed": false
      },
      "outputs": [],
      "source": [
        "# index of C1 in array\nelectrode = 'C1'\npick = ga_phase_coherence.ch_names.index(electrode)\n\n# create figure\nfig, ax = plt.subplots(figsize=(7, 4))\nplot_compare_evokeds(ga_phase_coherence,\n                     ylim=dict(eeg=[-1.5, 3.5]),\n                     picks=pick,\n                     show_sensors='upper right',\n                     colors=['k'],\n                     axes=ax)\nax.fill_between(times,\n                # transform values to microvolt\n                upper_b[pick] * 1e6,\n                lower_b[pick] * 1e6,\n                color=['k'],\n                alpha=0.2)\nplt.plot()"
      ]
    },
    {
      "cell_type": "markdown",
      "metadata": {},
      "source": [
        "compute one sample t-test on phase coherence betas\n\n"
      ]
    },
    {
      "cell_type": "code",
      "execution_count": null,
      "metadata": {
        "collapsed": false
      },
      "outputs": [],
      "source": [
        "# estimate t-values\nt_vals = ttest_1samp_no_p(betas)\n# back projection to channels x time points\nt_vals = t_vals.reshape((n_channels, n_times))\n\n# create mask for \"significant\" t-values (i.e., above or below\n# boot-t quantiles\nt_pos = t_vals > upper_t\nt_neg = t_vals < lower_t\nsig_mask = t_pos | t_neg\n\n# create evoked object containing the resulting t-values\ngroup_t = dict()\ngroup_t['phase-coherence'] = EvokedArray(t_vals, epochs_info, tmin)\n\n# electrodes to plot (reverse order to be compatible whit LIMO paper)\npicks = group_t['phase-coherence'].ch_names[::-1]\n# plot t-values, masking non-significant time points.\nfig = group_t['phase-coherence'].plot_image(time_unit='s',\n                                            picks=picks,\n                                            mask=sig_mask,\n                                            xlim=(-.1, None),\n                                            unit=False,\n                                            # keep values scale\n                                            scalings=dict(eeg=1))\nfig.axes[1].set_title('T-value')\nfig.axes[0].set_title('Group-level effect of phase-coherence')\nfig.set_size_inches(7, 4)"
      ]
    },
    {
      "cell_type": "markdown",
      "metadata": {},
      "source": [
        "plot topo-map for n170 effect\n\n"
      ]
    },
    {
      "cell_type": "code",
      "execution_count": null,
      "metadata": {
        "collapsed": false
      },
      "outputs": [],
      "source": [
        "fig = group_t['phase-coherence'].plot_topomap(times=[.12, .16, .20],\n                                              scalings=dict(eeg=1),\n                                              sensors=False,\n                                              outlines='skirt')"
      ]
    },
    {
      "cell_type": "markdown",
      "metadata": {},
      "source": [
        "plot t-histograms for n170 effect showing CI boundaries\n\n"
      ]
    },
    {
      "cell_type": "code",
      "execution_count": null,
      "metadata": {
        "collapsed": false
      },
      "outputs": [],
      "source": [
        "# times to plot\ntime_ind_160 = (times > .159) & (times < .161)\n\n# at ~ .120 seconds\nplt.hist(boot_t.reshape((boot_t.shape[0],\n                         n_channels,\n                         n_times))[:, pick, time_ind_160], bins=100)\nplt.axvline(x=lower_t[pick, time_ind_160], color='r')\nplt.axvline(x=upper_t[pick, time_ind_160], color='r')\nplt.title('electrode %s, time ~ .120 s' % electrode)"
      ]
    }
  ],
  "metadata": {
    "kernelspec": {
      "display_name": "Python 3",
      "language": "python",
      "name": "python3"
    },
    "language_info": {
      "codemirror_mode": {
        "name": "ipython",
        "version": 3
      },
      "file_extension": ".py",
      "mimetype": "text/x-python",
      "name": "python",
      "nbconvert_exporter": "python",
      "pygments_lexer": "ipython3",
      "version": "3.7.3"
    }
  },
  "nbformat": 4,
  "nbformat_minor": 0
}