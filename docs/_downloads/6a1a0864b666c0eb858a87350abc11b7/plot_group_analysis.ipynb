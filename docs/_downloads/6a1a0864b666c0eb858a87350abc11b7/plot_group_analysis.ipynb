{
  "cells": [
    {
      "cell_type": "code",
      "execution_count": null,
      "metadata": {
        "collapsed": false
      },
      "outputs": [],
      "source": [
        "%matplotlib inline"
      ]
    },
    {
      "cell_type": "markdown",
      "metadata": {},
      "source": [
        "\n# Plot Grand-Average ERPs\n\n"
      ]
    },
    {
      "cell_type": "code",
      "execution_count": null,
      "metadata": {
        "collapsed": false
      },
      "outputs": [],
      "source": [
        "# Authors: Jose C. Garcia Alanis <alanis.jcg@gmail.com>\n#\n# License: BSD (3-clause)\n\nimport pandas as pd\nimport matplotlib.pyplot as plt\n\nimport mne\nfrom mne.datasets import limo\nfrom mne.viz import plot_compare_evokeds"
      ]
    },
    {
      "cell_type": "markdown",
      "metadata": {},
      "source": [
        "list with subjects ids that should be imported\n\n"
      ]
    },
    {
      "cell_type": "code",
      "execution_count": null,
      "metadata": {
        "collapsed": false
      },
      "outputs": [],
      "source": [
        "subjects = list(range(2, 19))\n# create a dictionary containing participants data for easy slicing\nlimo_epochs = {str(subject): limo.load_data(subject=subject) for subject in subjects}  # noqa\n\n# get key from subjects dict for easy slicing\nsubjects = list(limo_epochs.keys())"
      ]
    },
    {
      "cell_type": "markdown",
      "metadata": {},
      "source": [
        "drop EOGs and interpolate missing channels\n\n"
      ]
    },
    {
      "cell_type": "code",
      "execution_count": null,
      "metadata": {
        "collapsed": false
      },
      "outputs": [],
      "source": [
        "for subject in subjects:\n    limo_epochs[subject].drop_channels(['EXG1', 'EXG2', 'EXG3', 'EXG4'])\n    limo_epochs[subject].interpolate_bads(reset_bads=True)"
      ]
    },
    {
      "cell_type": "markdown",
      "metadata": {},
      "source": [
        "check metadata\n\n"
      ]
    },
    {
      "cell_type": "code",
      "execution_count": null,
      "metadata": {
        "collapsed": false
      },
      "outputs": [],
      "source": [
        "print(limo_epochs[subjects[0]].metadata.head())\n\n# create factor for phase-variable\nname = \"phase-coherence\"\nfactor = 'factor-' + name\nfor subject in subjects:\n    df = limo_epochs[subject].metadata\n    df[factor] = pd.cut(df[name], 11, labels=False) / 10\n    # overwrite metadata\n    limo_epochs[subject].metadata = df"
      ]
    },
    {
      "cell_type": "markdown",
      "metadata": {},
      "source": [
        "--- compute and plot grand averages for phase-coherence factor\ncreate dict of colors for plot\n\n"
      ]
    },
    {
      "cell_type": "code",
      "execution_count": null,
      "metadata": {
        "collapsed": false
      },
      "outputs": [],
      "source": [
        "colors = {str(val): val for val in sorted(df[factor].unique())}\n\n# evoked responses per subject\nevokeds = list()\nfor subject in subjects:\n    subject_evo = {val: limo_epochs[subject][limo_epochs[subject].metadata[factor] == float(val)].average() for val in colors}  # noqa\n    evokeds.append(subject_evo)\n\n# evoked responses per level of phase-coherence\nfactor_evokeds = list()\nfor val in colors:\n    factor_evo = {val: [evokeds[ind][val] for ind in list(range(len(evokeds)))]}  # noqa\n    factor_evokeds.append(factor_evo)\n\n# compute grand averages\ngrand_averages = {val: mne.grand_average(factor_evokeds[i][val]) for i, val in enumerate(colors)}  # noqa\n\n# pick channel to plot\nelectrodes = ['A19', 'C22', 'B8']\n# initialize figure\nfig, axs = plt.subplots(len(electrodes), 1, figsize=(10, 15))\nfor electrode in list(range(len(electrodes))):\n    plot_compare_evokeds(grand_averages,\n                         axes=axs[electrode],\n                         ylim=dict(eeg=[-12.5, 12.5]),\n                         colors=colors,\n                         split_legend=True,\n                         picks=electrodes[electrode],\n                         truncate_yaxis='max_ticks',\n                         cmap=(name + \" Percentile\", \"magma\"))\nplt.show()\n\n# plot individual erps\nfig, axs = plt.subplots(17, 1, figsize=(5, 20))\nfor ind in list(range(0, len(evokeds))):\n    plot_compare_evokeds(evokeds[ind],\n                         axes=axs[ind],\n                         title='subject %s' % (subjects[ind]),\n                         ylim=dict(eeg=[-15, 15]),\n                         colors=colors,\n                         split_legend=True,\n                         picks=electrodes[2],\n                         truncate_yaxis='max_ticks',\n                         cmap=(name + \" Percentile\", \"magma\"))\nplt.show()"
      ]
    }
  ],
  "metadata": {
    "kernelspec": {
      "display_name": "Python 3",
      "language": "python",
      "name": "python3"
    },
    "language_info": {
      "codemirror_mode": {
        "name": "ipython",
        "version": 3
      },
      "file_extension": ".py",
      "mimetype": "text/x-python",
      "name": "python",
      "nbconvert_exporter": "python",
      "pygments_lexer": "ipython3",
      "version": "3.7.3"
    }
  },
  "nbformat": 4,
  "nbformat_minor": 0
}