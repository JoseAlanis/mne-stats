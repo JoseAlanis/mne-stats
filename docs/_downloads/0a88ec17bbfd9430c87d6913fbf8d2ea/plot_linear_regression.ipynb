{
  "cells": [
    {
      "cell_type": "code",
      "execution_count": null,
      "metadata": {
        "collapsed": false
      },
      "outputs": [],
      "source": [
        "%matplotlib inline"
      ]
    },
    {
      "cell_type": "markdown",
      "metadata": {},
      "source": [
        "\n# Plot beta coefficients from linear model estimation with sklearn\n\n"
      ]
    },
    {
      "cell_type": "code",
      "execution_count": null,
      "metadata": {
        "collapsed": false
      },
      "outputs": [],
      "source": [
        "# Authors: Jose C. Garcia Alanis <alanis.jcg@gmail.com>\n#\n# License: BSD (3-clause)\n\nimport numpy as np\nfrom sklearn.linear_model import LinearRegression\n\nfrom mne.decoding import Vectorizer, get_coef\nfrom mne.datasets import limo\nfrom mne.stats import linear_regression\nfrom mne.evoked import EvokedArray\nfrom mne.io.pick import pick_types"
      ]
    },
    {
      "cell_type": "markdown",
      "metadata": {},
      "source": [
        "list with subjects ids that should be imported\n\n"
      ]
    },
    {
      "cell_type": "code",
      "execution_count": null,
      "metadata": {
        "collapsed": false
      },
      "outputs": [],
      "source": [
        "subjects = [2]\n# create a dictionary containing participants data\nlimo_epochs = {str(subj): limo.load_data(subject=subj) for subj in subjects}\n\n# get key from subjects dict for easy slicing\n# subjects = list(limo_epochs.keys())\n\n# interpolate missing channels\nfor subject in limo_epochs.values():\n    subject.interpolate_bads(reset_bads=True)\n\n# pick channels that should be included in the analysis\npicks_eeg = pick_types(limo_epochs['2'].info, eeg=True)\n# channels to be excluded\nexclude = ['EXG1', 'EXG2', 'EXG3', 'EXG4']\n\n# save epochs information (needed for creating a homologous\n# epochs object containing linear regression result)\nepochs_info = limo_epochs['2'].copy().drop_channels(exclude).info\ntmin = limo_epochs['2'].tmin.copy()"
      ]
    },
    {
      "cell_type": "markdown",
      "metadata": {},
      "source": [
        "use epochs metadata to create design matrix for linear regression analyses\n\n"
      ]
    },
    {
      "cell_type": "code",
      "execution_count": null,
      "metadata": {
        "collapsed": false
      },
      "outputs": [],
      "source": [
        "# add intercept\ndesign = limo_epochs['2'].metadata.copy().assign(intercept=1)\n# effect code contrast for categorical variable (i.e., condition a vs. b)\ndesign['face a - face b'] = np.where(design['face'] == 'A', 1, -1)\n# create design matrix with named predictors\npredictors = ['intercept', 'face a - face b', 'phase-coherence']\ndesign = design[predictors]"
      ]
    },
    {
      "cell_type": "markdown",
      "metadata": {},
      "source": [
        "--- run linear regression analysis using scikit-learn ---\n\n"
      ]
    },
    {
      "cell_type": "code",
      "execution_count": null,
      "metadata": {
        "collapsed": false
      },
      "outputs": [],
      "source": [
        "# data to be analysed\ndata = limo_epochs['2'].get_data(picks_eeg)\n# number of channels and number of time points in each epoch\n# we'll this this information later to bring the results of the\n# the linear regression algorithm into an eeg-like format\n# (i.e., channels x times points)\nn_channels = len(picks_eeg)\nn_times = len(limo_epochs['2'].times)\n\n# vectorize (channel) data for linear regression\nY = Vectorizer().fit_transform(data)\n\n# --- fit linear model with sklearn ---\n# here, we already have an intercept column in the design matrix,\n# thus we'll call LinearRegression with fit_intercept=False\nlinear_model = LinearRegression(fit_intercept=False)\nlinear_model.fit(design, Y)\n\n# next, we'll extract the resulting coefficients (i.e., betas)\n# from the linear model estimator.\nbetas = get_coef(linear_model, 'coef_')\n\n# notice that the resulting matrix of coefficients has a shape of\n# number of observations in the vertorized channel data (i.e, these represent\n# teh data points want to predict) by number of predictors.\nprint(betas.shape)\n\n# thus, we can loop through the columns (i.e., the predictors) of the\n# coefficient matrix and extract coefficients for each predictor and project\n# them back to a channels x time points space.\nlm_betas = dict()\nfor ind, predictor in enumerate(predictors):\n    # extract coefficients\n    beta = betas[:, ind]\n    # back projection to channels x time points\n    beta = beta.reshape((n_channels, n_times))\n    # create evoked object containing the back projected coefficients\n    # for each predictor\n    lm_betas[predictor] = EvokedArray(beta, epochs_info, tmin)"
      ]
    },
    {
      "cell_type": "markdown",
      "metadata": {},
      "source": [
        "--- plot results of linear regression ---\nonly show -250 to 500 ms\n\n"
      ]
    },
    {
      "cell_type": "code",
      "execution_count": null,
      "metadata": {
        "collapsed": false
      },
      "outputs": [],
      "source": [
        "ts_args = dict(xlim=(-.25, 0.5))\n\n# visualise effect of phase-coherence for sklearn estimation method.\nlm_betas['phase-coherence'].plot_joint(ts_args=ts_args,\n                                       title='Phase-coherence (sklearn betas)',\n                                       times=[.23])"
      ]
    },
    {
      "cell_type": "markdown",
      "metadata": {},
      "source": [
        "replicate analysis using mne.stats.linear_regression\n\n"
      ]
    },
    {
      "cell_type": "code",
      "execution_count": null,
      "metadata": {
        "collapsed": false
      },
      "outputs": [],
      "source": [
        "reg = linear_regression(limo_epochs['2'], design, names=predictors)\n\n# visualise effect of phase-coherence for mne.stats method.\nreg['phase-coherence'].beta.plot_joint(ts_args=ts_args,\n                                       title='Phase-coherence (mne.stats betas)',  # noqa\n                                       times=[.23])"
      ]
    }
  ],
  "metadata": {
    "kernelspec": {
      "display_name": "Python 3",
      "language": "python",
      "name": "python3"
    },
    "language_info": {
      "codemirror_mode": {
        "name": "ipython",
        "version": 3
      },
      "file_extension": ".py",
      "mimetype": "text/x-python",
      "name": "python",
      "nbconvert_exporter": "python",
      "pygments_lexer": "ipython3",
      "version": "3.7.3"
    }
  },
  "nbformat": 4,
  "nbformat_minor": 0
}