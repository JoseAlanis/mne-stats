{
  "cells": [
    {
      "cell_type": "code",
      "execution_count": null,
      "metadata": {
        "collapsed": false
      },
      "outputs": [],
      "source": [
        "%matplotlib inline"
      ]
    },
    {
      "cell_type": "markdown",
      "metadata": {},
      "source": [
        "\n# Plot bootstrapped confidence interval for linear model fit\n\n"
      ]
    },
    {
      "cell_type": "code",
      "execution_count": null,
      "metadata": {
        "collapsed": false
      },
      "outputs": [],
      "source": [
        "# Authors: Jose C. Garcia Alanis <alanis.jcg@gmail.com>\n#\n# License: BSD (3-clause)\n\nimport numpy as np\nimport matplotlib.pyplot as plt\n\nfrom sklearn.linear_model import LinearRegression\n\nfrom mne.viz import plot_compare_evokeds\nfrom mne.decoding import Vectorizer, get_coef\nfrom mne.datasets import limo\nfrom mne.evoked import EvokedArray"
      ]
    },
    {
      "cell_type": "markdown",
      "metadata": {},
      "source": [
        "Here, we'll import only one subject and use the data to bootstrap the\nbeta coefficients derived from linear regression\n\n"
      ]
    },
    {
      "cell_type": "code",
      "execution_count": null,
      "metadata": {
        "collapsed": false
      },
      "outputs": [],
      "source": [
        "# subject id\nsubjects = [2]\n\n# create a dictionary containing participants data\nlimo_epochs = {str(subj): limo.load_data(subject=subj) for subj in subjects}\n\n# interpolate missing channels\nfor subject in limo_epochs.values():\n    subject.interpolate_bads(reset_bads=True)\n\n# epochs to use for analysis\nepochs = limo_epochs['2']\n\n# only keep eeg channels\nepochs = epochs.pick_types(eeg=True)\n\n# save epochs information (needed for creating a homologous\n# epochs object containing linear regression result)\nepochs_info = epochs.info\ntmin = epochs.tmin"
      ]
    },
    {
      "cell_type": "markdown",
      "metadata": {},
      "source": [
        "use epochs metadata to create design matrix for linear regression analyses\n\n"
      ]
    },
    {
      "cell_type": "code",
      "execution_count": null,
      "metadata": {
        "collapsed": false
      },
      "outputs": [],
      "source": [
        "# add intercept\ndesign = epochs.metadata.copy().assign(intercept=1)\n# effect code contrast for categorical variable (i.e., condition a vs. b)\ndesign['face a - face b'] = np.where(design['face'] == 'A', 1, -1)\n# create design matrix with named predictors\npredictors = ['intercept', 'face a - face b', 'phase-coherence']\ndesign = design[predictors]"
      ]
    },
    {
      "cell_type": "markdown",
      "metadata": {},
      "source": [
        "extract the data that will be used in the analyses\n\n"
      ]
    },
    {
      "cell_type": "code",
      "execution_count": null,
      "metadata": {
        "collapsed": false
      },
      "outputs": [],
      "source": [
        "# get epochs data\ndata = epochs.get_data()\n\n# number of epochs in data set\nn_epochs = data.shape[0]\n\n# number of channels and number of time points in each epoch\n# we'll use this information later to bring the results of the\n# the linear regression algorithm into an eeg-like format\n# (i.e., channels x times points)\nn_channels = data.shape[1]\nn_times = len(epochs.times)\n\n# vectorize (channel) data for linear regression\nY = Vectorizer().fit_transform(data)"
      ]
    },
    {
      "cell_type": "markdown",
      "metadata": {},
      "source": [
        "run bootstrap for regression coefficients\n\n"
      ]
    },
    {
      "cell_type": "code",
      "execution_count": null,
      "metadata": {
        "collapsed": false
      },
      "outputs": [],
      "source": [
        "# set random state for replication\nrandom_state = 42\nrandom = np.random.RandomState(random_state)\n\n# number of random samples\nboot = 2000\n\n# create empty array for saving the bootstrap samples\nboot_betas = np.zeros((boot, Y.shape[1], len(predictors)))\n# run bootstrap for regression coefficients\nfor i in range(boot):\n    # extract random epochs from data\n    resamples = random.choice(range(n_epochs), n_epochs, replace=True)\n    # set up model and fit model\n    model = LinearRegression(fit_intercept=False)\n    model.fit(X=design.iloc[resamples], y=Y[resamples, :])\n    # extract regression coefficients\n    boot_betas[i, :, :] = get_coef(model, 'coef_')\n    # delete the previously fitted model\n    del model"
      ]
    },
    {
      "cell_type": "markdown",
      "metadata": {},
      "source": [
        "compute lower and upper boundaries of confidence interval based on\ndistribution of bootstrap betas.\n\n"
      ]
    },
    {
      "cell_type": "code",
      "execution_count": null,
      "metadata": {
        "collapsed": false
      },
      "outputs": [],
      "source": [
        "lower, upper = np.quantile(boot_betas, [.025, .975], axis=0)"
      ]
    },
    {
      "cell_type": "markdown",
      "metadata": {},
      "source": [
        "fit linear regression model to original data and store the results in\nMNE's evoked format for convenience\n\n"
      ]
    },
    {
      "cell_type": "code",
      "execution_count": null,
      "metadata": {
        "collapsed": false
      },
      "outputs": [],
      "source": [
        "# set up linear model\nlinear_model = LinearRegression(fit_intercept=False)\n# fit model\nlinear_model.fit(design, Y)\n\n# extract the coefficients for linear model estimator\nbetas = get_coef(linear_model, 'coef_')\n\n# project coefficients back to a channels x time points space.\nlm_betas = dict()\nci = dict(lower_bound=dict(), upper_bound=dict())\n# loop through predictors\nfor ind, predictor in enumerate(predictors):\n    # extract coefficients and CI for predictor in question\n    # and project back to channels x time points\n    beta = betas[:, ind].reshape((n_channels, n_times))\n    lower_bound = lower[:, ind].reshape((n_channels, n_times))\n    upper_bound = upper[:, ind].reshape((n_channels, n_times))\n    # create evoked object containing the back projected coefficients\n    # for each predictor\n    lm_betas[predictor] = EvokedArray(beta, epochs_info, tmin)\n    # dictionary containing upper and lower confidence boundaries\n    ci['lower_bound'][predictor] = lower_bound\n    ci['upper_bound'][predictor] = upper_bound"
      ]
    },
    {
      "cell_type": "markdown",
      "metadata": {},
      "source": [
        "plot results of linear regression\n\n"
      ]
    },
    {
      "cell_type": "code",
      "execution_count": null,
      "metadata": {
        "collapsed": false
      },
      "outputs": [],
      "source": [
        "# only show -250 to 500 ms\nts_args = dict(xlim=(-.25, 0.5))\n\n# predictor to plot\npredictor = 'phase-coherence'\n# electrode to plot\npick = epochs.info['ch_names'].index('B8')\n\n# visualise effect of phase-coherence for sklearn estimation method.\nlm_betas[predictor].plot_joint(ts_args=ts_args,\n                               title='Phase-coherence (sklearn betas)',\n                               times=[.23])\n\n# create plot for the effect of phase-coherence on electrode B8\n# with 95% confidence interval\nfig, ax = plt.subplots(figsize=(8, 5))\nplot_compare_evokeds(lm_betas[predictor],\n                     picks=pick,\n                     ylim=dict(eeg=[-11, 1]),\n                     colors=['k'],\n                     legend='lower left',\n                     axes=ax)\nax.fill_between(epochs.times,\n                ci['lower_bound'][predictor][pick]*1e6,\n                ci['upper_bound'][predictor][pick]*1e6,\n                color=['k'],\n                alpha=0.2)\nplt.plot()"
      ]
    }
  ],
  "metadata": {
    "kernelspec": {
      "display_name": "Python 3",
      "language": "python",
      "name": "python3"
    },
    "language_info": {
      "codemirror_mode": {
        "name": "ipython",
        "version": 3
      },
      "file_extension": ".py",
      "mimetype": "text/x-python",
      "name": "python",
      "nbconvert_exporter": "python",
      "pygments_lexer": "ipython3",
      "version": "3.7.3"
    }
  },
  "nbformat": 4,
  "nbformat_minor": 0
}