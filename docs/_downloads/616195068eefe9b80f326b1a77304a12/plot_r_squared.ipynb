{
  "cells": [
    {
      "cell_type": "code",
      "execution_count": null,
      "metadata": {
        "collapsed": false
      },
      "outputs": [],
      "source": [
        "%matplotlib inline"
      ]
    },
    {
      "cell_type": "markdown",
      "metadata": {},
      "source": [
        "\n# Plot R-squared for a linear model\n\n"
      ]
    },
    {
      "cell_type": "code",
      "execution_count": null,
      "metadata": {
        "collapsed": false
      },
      "outputs": [],
      "source": [
        "# Authors: Jose C. Garcia Alanis <alanis.jcg@gmail.com>\n#\n# License: BSD (3-clause)\n\nimport numpy as np\n\nfrom sklearn.linear_model import LinearRegression\nfrom sklearn.metrics import r2_score\n\nfrom mne.decoding import Vectorizer, get_coef\nfrom mne.datasets import limo\nfrom mne.evoked import EvokedArray"
      ]
    },
    {
      "cell_type": "markdown",
      "metadata": {},
      "source": [
        "Here, we'll import only one subject. The example shows how to calculate the\ncoefficient of determination (R-squared) for a liner model fitted wit sklearn,\nshowing where (i.e., which electrodes) and when (i.e., at what time of the\nanalysis time window) the model fit best to the data.\n\n"
      ]
    },
    {
      "cell_type": "code",
      "execution_count": null,
      "metadata": {
        "collapsed": false
      },
      "outputs": [],
      "source": [
        "# subject id\nsubjects = [2]\n# create a dictionary containing participants data\nlimo_epochs = {str(subj): limo.load_data(subject=subj) for subj in subjects}\n\n# interpolate missing channels\nfor subject in limo_epochs.values():\n    subject.interpolate_bads(reset_bads=True)\n\n# epochs to use for analysis\nepochs = limo_epochs['2']\n\n# only keep eeg channels\nepochs = epochs.pick_types(eeg=True)\n\n# save epochs information (needed for creating a homologous\n# epochs object containing linear regression result)\nepochs_info = epochs.info\ntmin = epochs.tmin"
      ]
    },
    {
      "cell_type": "markdown",
      "metadata": {},
      "source": [
        "use epochs metadata to create design matrix for linear regression analyses\n\n"
      ]
    },
    {
      "cell_type": "code",
      "execution_count": null,
      "metadata": {
        "collapsed": false
      },
      "outputs": [],
      "source": [
        "# add intercept\ndesign = epochs.metadata.copy().assign(intercept=1)\n# effect code contrast for categorical variable (i.e., condition a vs. b)\ndesign['face a - face b'] = np.where(design['face'] == 'A', 1, -1)\n# create design matrix with named predictors\npredictors = ['intercept', 'face a - face b', 'phase-coherence']\ndesign = design[predictors]"
      ]
    },
    {
      "cell_type": "markdown",
      "metadata": {},
      "source": [
        "extract the data that will be used in the analyses\n\n"
      ]
    },
    {
      "cell_type": "code",
      "execution_count": null,
      "metadata": {
        "collapsed": false
      },
      "outputs": [],
      "source": [
        "# get epochs data\ndata = epochs.get_data()\n\n# number of epochs in data set\nn_epochs = data.shape[0]\n\n# number of channels and number of time points in each epoch\n# we'll use this information later to bring the results of the\n# the linear regression algorithm into an eeg-like format\n# (i.e., channels x times points)\nn_channels = data.shape[1]\nn_times = len(epochs.times)\n\n# vectorize (channel) data for linear regression\nY = Vectorizer().fit_transform(data)"
      ]
    },
    {
      "cell_type": "markdown",
      "metadata": {},
      "source": [
        "fit linear model with sklearn\n\n"
      ]
    },
    {
      "cell_type": "code",
      "execution_count": null,
      "metadata": {
        "collapsed": false
      },
      "outputs": [],
      "source": [
        "# set up model and fit linear model\nlinear_model = LinearRegression(fit_intercept=False)\nlinear_model.fit(design, Y)\n\n# extract the coefficients for linear model estimator\nbetas = get_coef(linear_model, 'coef_')\n\n# calculate coefficient of determination (r-squared)\nr_squared = r2_score(Y, linear_model.predict(design), multioutput='raw_values')\n# project r-squared back to channels by times space\nr_squared = r_squared.reshape((n_channels, n_times))\nr_squared = EvokedArray(r_squared, epochs_info, tmin)"
      ]
    },
    {
      "cell_type": "markdown",
      "metadata": {},
      "source": [
        "plot model r-squared\n\n"
      ]
    },
    {
      "cell_type": "code",
      "execution_count": null,
      "metadata": {
        "collapsed": false
      },
      "outputs": [],
      "source": [
        "# only show -250 to 500 ms\nts_args = dict(xlim=(-.25, 0.5),\n               unit=False,\n               ylim=dict(eeg=[0, 0.8]))\ntopomap_args = dict(cmap='Reds', scalings=dict(eeg=1),\n                    vmin=0, vmax=0.8, average=0.05)\n# create plot\nfig = r_squared.plot_joint(ts_args=ts_args,\n                           topomap_args=topomap_args,\n                           title='Proportion of variance explained by '\n                                 'predictors',\n                           times=[.13, .23])\nfig.axes[0].set_ylabel('R-squared')"
      ]
    }
  ],
  "metadata": {
    "kernelspec": {
      "display_name": "Python 3",
      "language": "python",
      "name": "python3"
    },
    "language_info": {
      "codemirror_mode": {
        "name": "ipython",
        "version": 3
      },
      "file_extension": ".py",
      "mimetype": "text/x-python",
      "name": "python",
      "nbconvert_exporter": "python",
      "pygments_lexer": "ipython3",
      "version": "3.7.3"
    }
  },
  "nbformat": 4,
  "nbformat_minor": 0
}