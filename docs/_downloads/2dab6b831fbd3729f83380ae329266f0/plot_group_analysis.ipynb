{
  "cells": [
    {
      "cell_type": "code",
      "execution_count": null,
      "metadata": {
        "collapsed": false
      },
      "outputs": [],
      "source": [
        "%matplotlib inline"
      ]
    },
    {
      "cell_type": "markdown",
      "metadata": {},
      "source": [
        "\n# Plot group-level ERPs across percentiles of continuous variable\n\n"
      ]
    },
    {
      "cell_type": "code",
      "execution_count": null,
      "metadata": {
        "collapsed": false
      },
      "outputs": [],
      "source": [
        "# Authors: Jose C. Garcia Alanis <alanis.jcg@gmail.com>\n#\n# License: BSD (3-clause)\n\nimport numpy as np\nimport pandas as pd\nimport matplotlib.pyplot as plt\n\nfrom mne import combine_evoked\nfrom mne.datasets import limo\nfrom mne.viz import plot_compare_evokeds"
      ]
    },
    {
      "cell_type": "markdown",
      "metadata": {},
      "source": [
        "Here, we'll import multiple subjects from the LIMO-dataset and explore the\ngroup-level averages (i.e., grand-averages) for percentiles of a continuous\nvariable.\n\n"
      ]
    },
    {
      "cell_type": "code",
      "execution_count": null,
      "metadata": {
        "collapsed": false
      },
      "outputs": [],
      "source": [
        "# subject ids\nsubjects = range(2, 19)\n# create a dictionary containing participants data for easy slicing\nlimo_epochs = {str(subj): limo.load_data(subject=subj) for subj in subjects}\n\n# interpolate missing channels\nfor subject in limo_epochs.values():\n    subject.interpolate_bads(reset_bads=True)\n    # only keep eeg channels\n    subject.pick_types(eeg=True)"
      ]
    },
    {
      "cell_type": "markdown",
      "metadata": {},
      "source": [
        "create factor for phase-variable\n\n"
      ]
    },
    {
      "cell_type": "code",
      "execution_count": null,
      "metadata": {
        "collapsed": false
      },
      "outputs": [],
      "source": [
        "name = \"phase-coherence\"\nfactor = 'factor-' + name\nfor subject in limo_epochs.values():\n    df = subject.metadata\n    df[factor] = pd.cut(df[name], 11, labels=False) / 10\n    # overwrite metadata\n    subject.metadata = df"
      ]
    },
    {
      "cell_type": "markdown",
      "metadata": {},
      "source": [
        "compute grand averages for phase-coherence factor\n\n"
      ]
    },
    {
      "cell_type": "code",
      "execution_count": null,
      "metadata": {
        "collapsed": false
      },
      "outputs": [],
      "source": [
        "# get levels of phase_coherence factor\npc_factor = limo_epochs[str(subjects[0])].metadata[factor]\n# create dict of colors for plot\ncolors = {str(val): val for val in sorted(pc_factor.unique())}\n\n# evoked responses per subject\nevokeds = list()\nfor subject in limo_epochs.values():\n    subject_evo = {str(val): subject[subject.metadata[factor] == val].average()\n                   for val in colors.values()}\n    evokeds.append(subject_evo)\n\n# evoked responses per level of phase-coherence\nfactor_evokeds = list()\nfor val in colors:\n    factor_evo = {val: [evokeds[ind][val] for ind in range(len(evokeds))]}\n    factor_evokeds.append(factor_evo)\n\n# average phase-coherence betas\nweights = np.repeat(1 / len(subjects), len(subjects))\ngrand_averages = {val: combine_evoked(factor_evokeds[i][val], weights=weights)\n                  for i, val in enumerate(colors)}\n\n# pick channel to plot\nelectrodes = ['A19', 'C22', 'B8']\n\n# create figs\nfor electrode in electrodes:\n    fig, ax = plt.subplots(figsize=(7, 4))\n    plot_compare_evokeds(grand_averages,\n                         axes=ax,\n                         ylim=dict(eeg=[-12.5, 12.5]),\n                         colors=colors,\n                         split_legend=True,\n                         picks=electrode,\n                         cmap=(name + \" Percentile\", \"magma\"))\n    plt.show()"
      ]
    },
    {
      "cell_type": "markdown",
      "metadata": {},
      "source": [
        "plot individual ERPs for three exemplary subjects\n\n"
      ]
    },
    {
      "cell_type": "code",
      "execution_count": null,
      "metadata": {
        "collapsed": false
      },
      "outputs": [],
      "source": [
        "# create figs\nfor i, subj in enumerate(evokeds[0:3]):\n    fig, ax = plt.subplots(figsize=(7, 4))\n    plot_compare_evokeds(subj,\n                         axes=ax,\n                         title='subject %s' % (i + 2),\n                         ylim=dict(eeg=[-20, 20]),\n                         colors=colors,\n                         split_legend=True,\n                         picks=electrodes[2],\n                         cmap=(name + \" Percentile\", \"magma\"))\nplt.show()"
      ]
    }
  ],
  "metadata": {
    "kernelspec": {
      "display_name": "Python 3",
      "language": "python",
      "name": "python3"
    },
    "language_info": {
      "codemirror_mode": {
        "name": "ipython",
        "version": 3
      },
      "file_extension": ".py",
      "mimetype": "text/x-python",
      "name": "python",
      "nbconvert_exporter": "python",
      "pygments_lexer": "ipython3",
      "version": "3.7.3"
    }
  },
  "nbformat": 4,
  "nbformat_minor": 0
}