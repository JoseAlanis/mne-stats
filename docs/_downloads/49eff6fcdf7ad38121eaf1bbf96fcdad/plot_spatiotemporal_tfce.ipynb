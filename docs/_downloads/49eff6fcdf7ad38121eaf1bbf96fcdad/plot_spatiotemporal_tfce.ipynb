{
  "cells": [
    {
      "cell_type": "code",
      "execution_count": null,
      "metadata": {
        "collapsed": false
      },
      "outputs": [],
      "source": [
        "%matplotlib inline"
      ]
    },
    {
      "cell_type": "markdown",
      "metadata": {},
      "source": [
        "\n# Plot significance t-map for effect of continuous variable\n\n"
      ]
    },
    {
      "cell_type": "code",
      "execution_count": null,
      "metadata": {
        "collapsed": false
      },
      "outputs": [],
      "source": [
        "# Authors: Jose C. Garcia Alanis <alanis.jcg@gmail.com>\n#\n# License: BSD (3-clause)\n\nimport numpy as np\nfrom sklearn.linear_model import LinearRegression\n\nfrom mne.stats.cluster_level import _find_clusters,_setup_connectivity\nfrom mne.channels import find_ch_connectivity\nfrom mne.datasets import limo\nfrom mne.decoding import Vectorizer, get_coef\nfrom mne.evoked import EvokedArray\nfrom mne import combine_evoked"
      ]
    },
    {
      "cell_type": "markdown",
      "metadata": {},
      "source": [
        "Here, we'll import multiple subjects from the LIMO-dataset and compute\ngroup-level beta-coefficients for a continuous predictor, in addition we show\nhow confidence (or significance) levels can be computed for this effects\nusing the bootstrap-t technique and spatiotemporal clustering and\nthreshold-free cluster enhancement\n\n"
      ]
    },
    {
      "cell_type": "code",
      "execution_count": null,
      "metadata": {
        "collapsed": false
      },
      "outputs": [],
      "source": [
        "# list with subjects ids that should be imported\nsubjects = range(1, 19)\n# create a dictionary containing participants data for easy slicing\nlimo_epochs = {str(subj): limo.load_data(subject=subj) for subj in subjects}\n\n# interpolate missing channels\nfor subject in limo_epochs.values():\n    subject.interpolate_bads(reset_bads=True)\n    # only keep eeg channels\n    subject.pick_types(eeg=True)"
      ]
    },
    {
      "cell_type": "markdown",
      "metadata": {},
      "source": [
        "regression parameters\n\n"
      ]
    },
    {
      "cell_type": "code",
      "execution_count": null,
      "metadata": {
        "collapsed": false
      },
      "outputs": [],
      "source": [
        "# variables to be used in the analysis (i.e., predictors)\npredictors = ['intercept', 'face a - face b', 'phase-coherence']\n\n# number of predictors\nn_predictors = len(predictors)\n\n# save epochs information (needed for creating a homologous\n# epochs object containing linear regression result)\nepochs_info = limo_epochs[str(subjects[0])].info\n\n# number of channels and number of time points in each epoch\n# we'll use this information later to bring the results of the\n# the linear regression algorithm into an eeg-like format\n# (i.e., channels x times points)\nn_channels = len(epochs_info['ch_names'])\nn_times = len(limo_epochs[str(subjects[0])].times)\n\n# also save times first time-point in data\ntimes = limo_epochs[str(subjects[0])].times\ntmin = limo_epochs[str(subjects[0])].tmin"
      ]
    },
    {
      "cell_type": "markdown",
      "metadata": {},
      "source": [
        "create empty objects  for the storage of results\n\n"
      ]
    },
    {
      "cell_type": "code",
      "execution_count": null,
      "metadata": {
        "collapsed": false
      },
      "outputs": [],
      "source": [
        "# place holders for bootstrap samples\nbetas = np.zeros((len(limo_epochs.values()),\n                  n_channels * n_times))\n\n# dicts for results evoked-objects\nbetas_evoked = dict()\nt_evokeds = dict()"
      ]
    },
    {
      "cell_type": "markdown",
      "metadata": {},
      "source": [
        "run regression analysis for each subject\n\n"
      ]
    },
    {
      "cell_type": "code",
      "execution_count": null,
      "metadata": {
        "collapsed": false
      },
      "outputs": [],
      "source": [
        "# loop through subjects, set up and fit linear model\nfor iteration, subject in enumerate(limo_epochs.values()):\n\n    # --- 1) create design matrix ---\n    # use epochs metadata\n    design = subject.metadata.copy()\n\n    # add intercept (constant) to design matrix\n    design = design.assign(intercept=1)\n\n    # effect code contrast for categorical variable (i.e., condition a vs. b)\n    design['face a - face b'] = np.where(design['face'] == 'A', 1, -1)\n\n    # order columns of design matrix\n    design = design[predictors]\n\n    # column of betas array (i.e., predictor) to run bootstrap on\n    pred_col = predictors.index('phase-coherence')\n\n    # --- 2) vectorize (eeg-channel) data for linear regression analysis ---\n    # data to be analysed\n    data = subject.get_data()\n\n    # vectorize data across channels\n    Y = Vectorizer().fit_transform(data)\n\n    # --- 3) fit linear model with sklearn's LinearRegression ---\n    # we already have an intercept column in the design matrix,\n    # thus we'll call LinearRegression with fit_intercept=False\n    linear_model = LinearRegression(fit_intercept=False)\n    linear_model.fit(design, Y)\n\n    # --- 4) extract the resulting coefficients (i.e., betas) ---\n    # extract betas\n    coefs = get_coef(linear_model, 'coef_')\n    # only keep relevant predictor\n    betas[iteration, :] = coefs[:, pred_col]\n\n    # the matrix of coefficients has a shape of number of observations in\n    # the vertorized channel data by number of predictors;\n    # thus, we can loop through the columns i.e., the predictors)\n    # of the coefficient matrix and extract coefficients for each predictor\n    # in order to project them back to a channels x time points space.\n    lm_betas = dict()\n\n    # extract coefficients\n    beta = betas[iteration, :]\n    # back projection to channels x time points\n    beta = beta.reshape((n_channels, n_times))\n    # create evoked object containing the back projected coefficients\n    lm_betas['phase-coherence'] = EvokedArray(beta, epochs_info, tmin)\n\n    # save results\n    betas_evoked[str(subjects[iteration])] = lm_betas\n\n    # clean up\n    del linear_model"
      ]
    },
    {
      "cell_type": "markdown",
      "metadata": {},
      "source": [
        "compute mean beta-coefficient for predictor phase-coherence\n\n"
      ]
    },
    {
      "cell_type": "code",
      "execution_count": null,
      "metadata": {
        "collapsed": false
      },
      "outputs": [],
      "source": [
        "# subject ids\nsubjects = [str(subj) for subj in subjects]\n\n# extract phase-coherence betas for each subject\nphase_coherence = [betas_evoked[subj]['phase-coherence'] for subj in subjects]\n\n# average phase-coherence betas\nweights = np.repeat(1 / len(phase_coherence), len(phase_coherence))\nga_phase_coherence = combine_evoked(phase_coherence, weights=weights)"
      ]
    },
    {
      "cell_type": "markdown",
      "metadata": {},
      "source": [
        "compute bootstrap confidence interval for phase-coherence betas and t-values\n\n"
      ]
    },
    {
      "cell_type": "code",
      "execution_count": null,
      "metadata": {
        "collapsed": false
      },
      "outputs": [],
      "source": [
        "# set random state for replication\nrandom_state = 42\nrandom = np.random.RandomState(random_state)\n\n# number of random samples\nboot = 2000\n\n# place holders for bootstrap samples\ncluster_H0 = np.zeros(boot)\nf_H0 = np.zeros(boot)\n\n# setup connectivity\nn_tests = betas.shape[1]\nconnectivity, ch_names = find_ch_connectivity(epochs_info, ch_type='eeg')\nconnectivity = _setup_connectivity(connectivity, n_tests, n_times)\n\n# threshold parameters for clustering\nthreshold = dict(start=.1, step=.1)\n\n# run bootstrap for regression coefficients\nfor i in range(boot):\n    # extract random subjects from overall sample\n    resampled_subjects = random.choice(range(betas.shape[0]),\n                                       betas.shape[0],\n                                       replace=True)\n    # resampled betas\n    resampled_betas = betas[resampled_subjects, :]\n\n    # compute standard error of bootstrap sample\n    se = resampled_betas.std(axis=0) / np.sqrt(resampled_betas.shape[0])\n\n    # center re-sampled betas around zero\n    resampled_betas -= betas.mean(axis=0)\n\n    # compute t-values for bootstrap sample\n    t_val = resampled_betas.mean(axis=0) / se\n    # transfrom to f-values\n    f_vals = t_val ** 2\n\n    # transpose for clustering\n    f_vals = f_vals.reshape((n_channels, n_times))\n    f_vals = np.transpose(f_vals, (1, 0))\n    f_vals = f_vals.reshape((n_times * n_channels))\n\n    # compute clustering on squared t-values (i.e., f-values)\n    clusters, cluster_stats = _find_clusters(f_vals,\n                                             threshold=threshold,\n                                             connectivity=connectivity,\n                                             tail=1)\n    # save max cluster mass. Combined, the max cluster mass values from\n    # computed on the basis of the bootstrap samples provide an approximation\n    # of the cluster mass distribution under H0\n    if len(clusters):\n        cluster_H0[i] = cluster_stats.max()\n    else:\n        cluster_H0[i] = np.nan\n\n    # save max f-value\n    f_H0[i] = f_vals.max()\n\n    print('find clusters for bootstrap sample %i' % i)"
      ]
    },
    {
      "cell_type": "markdown",
      "metadata": {},
      "source": [
        "estimate t-test based on original phase coherence betas\n\n"
      ]
    },
    {
      "cell_type": "code",
      "execution_count": null,
      "metadata": {
        "collapsed": false
      },
      "outputs": [],
      "source": [
        "# estimate t-values and f-values\nse = betas.std(axis=0) / np.sqrt(betas.shape[0])\nt_vals = betas.mean(axis=0) / se\nf_vals = t_vals ** 2\n\n# transpose for clustering\nf_vals = f_vals.reshape((n_channels, n_times))\nf_vals = np.transpose(f_vals, (1, 0))\nf_vals = f_vals.reshape((n_times * n_channels))\n\n# find clusters\nclusters, cluster_stats = _find_clusters(f_vals,\n                                         threshold=threshold,\n                                         connectivity=connectivity,\n                                         tail=1)"
      ]
    },
    {
      "cell_type": "markdown",
      "metadata": {},
      "source": [
        "compute cluster significance and get mask por plot\nhere, we use the distribution of cluster mass bootstrap values\n\n"
      ]
    },
    {
      "cell_type": "code",
      "execution_count": null,
      "metadata": {
        "collapsed": false
      },
      "outputs": [],
      "source": [
        "cluster_thresh = np.quantile(cluster_H0, [.99], axis=0)\n\n# xlsuers above alpha level\nsig_mask = cluster_stats > cluster_thresh"
      ]
    },
    {
      "cell_type": "markdown",
      "metadata": {},
      "source": [
        "back projection to channels x time points\n\n"
      ]
    },
    {
      "cell_type": "code",
      "execution_count": null,
      "metadata": {
        "collapsed": false
      },
      "outputs": [],
      "source": [
        "t_vals = t_vals.reshape((n_channels, n_times))\nf_vals = np.transpose(f_vals.reshape((n_times, n_channels)), (1, 0))\nsig_mask = np.transpose(sig_mask.reshape((n_times, n_channels)), (1, 0))"
      ]
    },
    {
      "cell_type": "markdown",
      "metadata": {},
      "source": [
        "create evoked object containing the resulting t-values\n\n"
      ]
    },
    {
      "cell_type": "code",
      "execution_count": null,
      "metadata": {
        "collapsed": false
      },
      "outputs": [],
      "source": [
        "group_t = dict()\ngroup_t['phase-coherence'] = EvokedArray(t_vals, epochs_info, tmin)\n\n# electrodes to plot (reverse order to be compatible whit LIMO paper)\npicks = group_t['phase-coherence'].ch_names[::-1]\n# plot t-values, masking non-significant time points.\nfig = group_t['phase-coherence'].plot_image(time_unit='s',\n                                            picks=picks,\n                                            mask=sig_mask,\n                                            xlim=(-.1, None),\n                                            unit=False,\n                                            # keep values scale\n                                            scalings=dict(eeg=1))\nfig.axes[1].set_title('T-value')\nfig.axes[0].set_title('Group-level effect of phase-coherence')\nfig.set_size_inches(7, 4)"
      ]
    }
  ],
  "metadata": {
    "kernelspec": {
      "display_name": "Python 3",
      "language": "python",
      "name": "python3"
    },
    "language_info": {
      "codemirror_mode": {
        "name": "ipython",
        "version": 3
      },
      "file_extension": ".py",
      "mimetype": "text/x-python",
      "name": "python",
      "nbconvert_exporter": "python",
      "pygments_lexer": "ipython3",
      "version": "3.7.3"
    }
  },
  "nbformat": 4,
  "nbformat_minor": 0
}